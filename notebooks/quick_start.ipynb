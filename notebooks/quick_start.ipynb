{
 "cells": [
  {
   "cell_type": "markdown",
   "id": "bcee1b8e",
   "metadata": {},
   "source": [
    "# Quick Start - CCDS Template\n",
    "\n",
    "This notebook runs the complete flow of a typical Data Science project following the CCDS format."
   ]
  },
  {
   "cell_type": "markdown",
   "id": "3f5ae346",
   "metadata": {},
   "source": [
    "## 1. Setup"
   ]
  },
  {
   "cell_type": "code",
   "execution_count": null,
   "id": "57257475",
   "metadata": {},
   "outputs": [],
   "source": [
    "import os\n",
    "import sys\n",
    "import pandas as pd\n",
    "import numpy as np\n",
    "from pathlib import Path"
   ]
  },
  {
   "cell_type": "code",
   "execution_count": null,
   "id": "83b4a06f",
   "metadata": {},
   "outputs": [],
   "source": [
    "# Add the src directory to the path\n",
    "project_dir = Path(__file__).resolve().parents[1]\n",
    "src_dir = project_dir / \"src\"\n",
    "sys.path.append(str(src_dir))"
   ]
  },
  {
   "cell_type": "code",
   "execution_count": null,
   "id": "ade558f3",
   "metadata": {},
   "outputs": [],
   "source": [
    "# Import project modules\n",
    "from data.make_dataset import load_raw_data\n",
    "from data.preprocess import clean_data\n",
    "from features.build_features import build_features\n",
    "from models.train_model import train_model\n",
    "from models.predict_model import predict\n",
    "from models.evaluate_model import evaluate_model\n",
    "from visualization.visualize import plot_results"
   ]
  },
  {
   "cell_type": "markdown",
   "id": "30025ff7",
   "metadata": {},
   "source": [
    "## 2. Load Raw Data"
   ]
  },
  {
   "cell_type": "code",
   "execution_count": null,
   "id": "36648b66",
   "metadata": {},
   "outputs": [],
   "source": [
    "print(\"Loading raw data...\")\n",
    "df_raw = load_raw_data(\"data/raw/dataset.csv\")\n",
    "df_raw.head()"
   ]
  },
  {
   "cell_type": "markdown",
   "id": "48bceb51",
   "metadata": {},
   "source": [
    "## 3. Preprocessing"
   ]
  },
  {
   "cell_type": "code",
   "execution_count": null,
   "id": "48d30a65",
   "metadata": {},
   "outputs": [],
   "source": [
    "print(\"Cleaning data...\")\n",
    "df_clean = clean_data(df_raw)\n",
    "df_clean.head()"
   ]
  },
  {
   "cell_type": "markdown",
   "id": "a30a2759",
   "metadata": {},
   "source": [
    "# 4. Feature Engineering"
   ]
  },
  {
   "cell_type": "code",
   "execution_count": null,
   "id": "f316435f",
   "metadata": {},
   "outputs": [],
   "source": [
    "print(\"Building features...\")\n",
    "X, y = build_features(df_clean)"
   ]
  },
  {
   "cell_type": "markdown",
   "id": "e3d3cd80",
   "metadata": {},
   "source": [
    "## 5. Model Training"
   ]
  },
  {
   "cell_type": "code",
   "execution_count": null,
   "id": "594c65db",
   "metadata": {},
   "outputs": [],
   "source": [
    "print(\"Training model...\")\n",
    "model = train_model(X, y)"
   ]
  },
  {
   "cell_type": "markdown",
   "id": "88de56e1",
   "metadata": {},
   "source": [
    "## 6. Prediction & Evaluation"
   ]
  },
  {
   "cell_type": "code",
   "execution_count": null,
   "id": "03d69c07",
   "metadata": {},
   "outputs": [],
   "source": [
    "print(\"Generating predictions...\")\n",
    "y_pred = predict(model, X)"
   ]
  },
  {
   "cell_type": "code",
   "execution_count": null,
   "id": "cc0687bb",
   "metadata": {},
   "outputs": [],
   "source": [
    "print(\"Evaluating model...\")\n",
    "metrics = evaluate_model(y, y_pred)\n",
    "print(metrics)"
   ]
  },
  {
   "cell_type": "markdown",
   "id": "870337de",
   "metadata": {},
   "source": [
    "## 7. Visualization"
   ]
  },
  {
   "cell_type": "code",
   "execution_count": null,
   "id": "5121429a",
   "metadata": {},
   "outputs": [],
   "source": [
    "print(\"Visualizing results...\")\n",
    "plot_results(y, y_pred)"
   ]
  }
 ],
 "metadata": {
  "kernelspec": {
   "display_name": ".venv",
   "language": "python",
   "name": "python3"
  },
  "language_info": {
   "name": "python",
   "version": "3.13.7"
  }
 },
 "nbformat": 4,
 "nbformat_minor": 5
}
