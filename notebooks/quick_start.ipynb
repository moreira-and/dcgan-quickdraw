{
 "cells": [
  {
   "cell_type": "markdown",
   "id": "bcee1b8e",
   "metadata": {},
   "source": [
    "# Quick Start - CCDS Template\n",
    "\n",
    "This notebook runs the complete flow of a typical Data Science project following the CCDS format."
   ]
  },
  {
   "cell_type": "markdown",
   "id": "3f5ae346",
   "metadata": {},
   "source": [
    "## 1. Setup"
   ]
  },
  {
   "cell_type": "code",
   "execution_count": 1,
   "id": "57257475",
   "metadata": {},
   "outputs": [],
   "source": [
    "import os\n",
    "import sys\n",
    "import pandas as pd\n",
    "import numpy as np\n",
    "from pathlib import Path"
   ]
  },
  {
   "cell_type": "code",
   "execution_count": 2,
   "id": "139aa202",
   "metadata": {},
   "outputs": [],
   "source": [
    "from pathlib import Path\n",
    "import sys\n",
    "import os\n",
    "\n",
    "# Pega o caminho do diretório atual onde o notebook está rodando\n",
    "notebook_dir = Path(os.getcwd())\n",
    "\n",
    "# Ajuste a quantidade de níveis para chegar na raiz do projeto\n",
    "project_dir = notebook_dir.parents[0]  # Ajuste conforme sua estrutura\n",
    "\n",
    "src_dir = project_dir / \"src\"\n",
    "sys.path.append(str(src_dir))"
   ]
  },
  {
   "cell_type": "markdown",
   "id": "30025ff7",
   "metadata": {},
   "source": [
    "## 2. Load Raw Data"
   ]
  },
  {
   "cell_type": "code",
   "execution_count": 3,
   "id": "36648b66",
   "metadata": {},
   "outputs": [
    {
     "name": "stderr",
     "output_type": "stream",
     "text": [
      "\u001b[32m2025-08-24 18:53:38.202\u001b[0m | \u001b[1mINFO    \u001b[0m | \u001b[36msrc.config\u001b[0m:\u001b[36m<module>\u001b[0m:\u001b[36m24\u001b[0m - \u001b[1mPROJ_ROOT path is: C:\\Repositories\\quickdraw-gan-generator\u001b[0m\n"
     ]
    },
    {
     "name": "stdout",
     "output_type": "stream",
     "text": [
      "Using device: cpu\n"
     ]
    }
   ],
   "source": [
    "from src.dataset import main as load_dataset"
   ]
  },
  {
   "cell_type": "code",
   "execution_count": 4,
   "id": "82758066",
   "metadata": {},
   "outputs": [
    {
     "name": "stdout",
     "output_type": "stream",
     "text": [
      "\u001b[32m2025-08-24 18:53:38.531\u001b[0m | \u001b[1mINFO    \u001b[0m | \u001b[36msrc.dataset\u001b[0m:\u001b[36mmain\u001b[0m:\u001b[36m22\u001b[0m - \u001b[1mStarting dataset processing with max_drawings=50...\u001b[0m\n",
      "loading coffee cup drawings\n",
      "load complete\n",
      "Number of drawings uploaded: 50\n"
     ]
    },
    {
     "name": "stderr",
     "output_type": "stream",
     "text": [
      "Saving drawings: 50it [00:00, 317.16it/s]"
     ]
    },
    {
     "name": "stdout",
     "output_type": "stream",
     "text": [
      "\u001b[32m2025-08-24 18:53:38.702\u001b[0m | \u001b[32m\u001b[1mSUCCESS \u001b[0m | \u001b[36msrc.dataset\u001b[0m:\u001b[36mmain\u001b[0m:\u001b[36m42\u001b[0m - \u001b[32m\u001b[1mProcessing dataset complete. Elapsed time: 0.17 seconds\u001b[0m\n"
     ]
    },
    {
     "name": "stderr",
     "output_type": "stream",
     "text": [
      "\n"
     ]
    }
   ],
   "source": [
    "load_dataset(50)"
   ]
  },
  {
   "cell_type": "markdown",
   "id": "48bceb51",
   "metadata": {},
   "source": [
    "## 2. Features"
   ]
  },
  {
   "cell_type": "code",
   "execution_count": 5,
   "id": "bb550ee8",
   "metadata": {},
   "outputs": [],
   "source": [
    "from src.features import main as process_dataset\n",
    "from src.plots import main as generate_plots"
   ]
  },
  {
   "cell_type": "code",
   "execution_count": 6,
   "id": "e4e7a764",
   "metadata": {},
   "outputs": [
    {
     "name": "stdout",
     "output_type": "stream",
     "text": [
      "\u001b[32m2025-08-24 18:53:40.983\u001b[0m | \u001b[1mINFO    \u001b[0m | \u001b[36msrc.features\u001b[0m:\u001b[36mmain\u001b[0m:\u001b[36m18\u001b[0m - \u001b[1mGenerating features from dataset...\u001b[0m\n",
      "\u001b[32m2025-08-24 18:53:40.986\u001b[0m | \u001b[1mINFO    \u001b[0m | \u001b[36msrc.features\u001b[0m:\u001b[36mmain\u001b[0m:\u001b[36m32\u001b[0m - \u001b[1mDataset loaded with 50 images and 1 classes.\u001b[0m\n"
     ]
    },
    {
     "name": "stderr",
     "output_type": "stream",
     "text": [
      "Saving tensors by class: 100%|██████████| 1/1 [00:00<00:00,  4.14it/s]"
     ]
    },
    {
     "name": "stdout",
     "output_type": "stream",
     "text": [
      "Processed 50 images for class 'coffee_cup'\n",
      "\u001b[32m2025-08-24 18:53:41.232\u001b[0m | \u001b[32m\u001b[1mSUCCESS \u001b[0m | \u001b[36msrc.features\u001b[0m:\u001b[36mmain\u001b[0m:\u001b[36m49\u001b[0m - \u001b[32m\u001b[1mFeatures generation complete. Elapsed time: 0.25 seconds\u001b[0m\n"
     ]
    },
    {
     "name": "stderr",
     "output_type": "stream",
     "text": [
      "\n"
     ]
    }
   ],
   "source": [
    "process_dataset()"
   ]
  },
  {
   "cell_type": "code",
   "execution_count": 7,
   "id": "6e5e43e0",
   "metadata": {},
   "outputs": [
    {
     "name": "stdout",
     "output_type": "stream",
     "text": [
      "\u001b[32m2025-08-24 18:53:41.244\u001b[0m | \u001b[1mINFO    \u001b[0m | \u001b[36msrc.plots\u001b[0m:\u001b[36mmain\u001b[0m:\u001b[36m19\u001b[0m - \u001b[1mGenerating plot from data...\u001b[0m\n"
     ]
    },
    {
     "name": "stderr",
     "output_type": "stream",
     "text": [
      "Plotting classes:  50%|█████     | 1/2 [00:00<00:00, 34.00it/s]\n"
     ]
    },
    {
     "ename": "RuntimeError",
     "evalue": "permute(sparse_coo): number of dimensions in the tensor input does not match the length of the desired ordering of dimensions i.e. input.dim() = 2 is not equal to len(dims) = 3",
     "output_type": "error",
     "traceback": [
      "\u001b[31m---------------------------------------------------------------------------\u001b[39m",
      "\u001b[31mRuntimeError\u001b[39m                              Traceback (most recent call last)",
      "\u001b[36mCell\u001b[39m\u001b[36m \u001b[39m\u001b[32mIn[7]\u001b[39m\u001b[32m, line 1\u001b[39m\n\u001b[32m----> \u001b[39m\u001b[32m1\u001b[39m \u001b[43mgenerate_plots\u001b[49m\u001b[43m(\u001b[49m\u001b[43m)\u001b[49m\n",
      "\u001b[36mFile \u001b[39m\u001b[32mC:\\Repositories\\quickdraw-gan-generator\\src\\plots.py:37\u001b[39m, in \u001b[36mmain\u001b[39m\u001b[34m()\u001b[39m\n\u001b[32m     35\u001b[39m img = img_tensor.squeeze() * \u001b[32m0.5\u001b[39m + \u001b[32m0.5\u001b[39m\n\u001b[32m     36\u001b[39m \u001b[38;5;66;03m# [C,H,W] → [H,W,C]\u001b[39;00m\n\u001b[32m---> \u001b[39m\u001b[32m37\u001b[39m img_np = \u001b[43mimg\u001b[49m\u001b[43m.\u001b[49m\u001b[43mpermute\u001b[49m\u001b[43m(\u001b[49m\u001b[32;43m1\u001b[39;49m\u001b[43m,\u001b[49m\u001b[43m \u001b[49m\u001b[32;43m2\u001b[39;49m\u001b[43m,\u001b[49m\u001b[43m \u001b[49m\u001b[32;43m0\u001b[39;49m\u001b[43m)\u001b[49m.numpy()\n\u001b[32m     39\u001b[39m plt.figure()\n\u001b[32m     40\u001b[39m plt.imshow(img_np, cmap=\u001b[33m\"\u001b[39m\u001b[33mgray\u001b[39m\u001b[33m\"\u001b[39m)\n",
      "\u001b[31mRuntimeError\u001b[39m: permute(sparse_coo): number of dimensions in the tensor input does not match the length of the desired ordering of dimensions i.e. input.dim() = 2 is not equal to len(dims) = 3"
     ]
    }
   ],
   "source": [
    "generate_plots()"
   ]
  },
  {
   "cell_type": "markdown",
   "id": "e3d3cd80",
   "metadata": {},
   "source": [
    "## 3. Model Training"
   ]
  },
  {
   "cell_type": "code",
   "execution_count": null,
   "id": "a8eb9e47",
   "metadata": {},
   "outputs": [
    {
     "ename": "Exception",
     "evalue": "Stop here for editing",
     "output_type": "error",
     "traceback": [
      "\u001b[31m---------------------------------------------------------------------------\u001b[39m",
      "\u001b[31mException\u001b[39m                                 Traceback (most recent call last)",
      "\u001b[36mCell\u001b[39m\u001b[36m \u001b[39m\u001b[32mIn[11]\u001b[39m\u001b[32m, line 1\u001b[39m\n\u001b[32m----> \u001b[39m\u001b[32m1\u001b[39m \u001b[38;5;28;01mraise\u001b[39;00m \u001b[38;5;167;01mException\u001b[39;00m(\u001b[33m\"\u001b[39m\u001b[33mStop here for editing\u001b[39m\u001b[33m\"\u001b[39m)\n",
      "\u001b[31mException\u001b[39m: Stop here for editing"
     ]
    }
   ],
   "source": [
    "raise Exception(\"Stop here for editing\")"
   ]
  },
  {
   "cell_type": "code",
   "execution_count": null,
   "id": "594c65db",
   "metadata": {},
   "outputs": [],
   "source": [
    "print(\"Training model...\")\n",
    "model = train_model(X, y)"
   ]
  },
  {
   "cell_type": "markdown",
   "id": "88de56e1",
   "metadata": {},
   "source": [
    "## 6. Prediction & Evaluation"
   ]
  },
  {
   "cell_type": "code",
   "execution_count": null,
   "id": "03d69c07",
   "metadata": {},
   "outputs": [],
   "source": [
    "print(\"Generating predictions...\")\n",
    "y_pred = predict(model, X)"
   ]
  },
  {
   "cell_type": "code",
   "execution_count": null,
   "id": "cc0687bb",
   "metadata": {},
   "outputs": [],
   "source": [
    "print(\"Evaluating model...\")\n",
    "metrics = evaluate_model(y, y_pred)\n",
    "print(metrics)"
   ]
  },
  {
   "cell_type": "markdown",
   "id": "870337de",
   "metadata": {},
   "source": [
    "## 7. Visualization"
   ]
  },
  {
   "cell_type": "code",
   "execution_count": null,
   "id": "5121429a",
   "metadata": {},
   "outputs": [],
   "source": [
    "print(\"Visualizing results...\")\n",
    "plot_results(y, y_pred)"
   ]
  }
 ],
 "metadata": {
  "kernelspec": {
   "display_name": ".venv",
   "language": "python",
   "name": "python3"
  },
  "language_info": {
   "codemirror_mode": {
    "name": "ipython",
    "version": 3
   },
   "file_extension": ".py",
   "mimetype": "text/x-python",
   "name": "python",
   "nbconvert_exporter": "python",
   "pygments_lexer": "ipython3",
   "version": "3.13.7"
  }
 },
 "nbformat": 4,
 "nbformat_minor": 5
}
