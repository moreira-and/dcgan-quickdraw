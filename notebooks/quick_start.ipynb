{
 "cells": [
  {
   "cell_type": "markdown",
   "id": "bcee1b8e",
   "metadata": {},
   "source": [
    "# Quick Start - CCDS Template\n",
    "\n",
    "This notebook runs the complete flow of a typical Data Science project following the CCDS format."
   ]
  },
  {
   "cell_type": "markdown",
   "id": "3f5ae346",
   "metadata": {},
   "source": [
    "## 0. Setup"
   ]
  },
  {
   "cell_type": "code",
   "execution_count": null,
   "id": "57257475",
   "metadata": {},
   "outputs": [],
   "source": [
    "import os\n",
    "import sys\n",
    "import pandas as pd\n",
    "from pathlib import Path"
   ]
  },
  {
   "cell_type": "code",
   "execution_count": null,
   "id": "139aa202",
   "metadata": {},
   "outputs": [],
   "source": [
    "from pathlib import Path\n",
    "import sys\n",
    "import os\n",
    "\n",
    "# Pega o caminho do diretório atual onde o notebook está rodando\n",
    "notebook_dir = Path(os.getcwd())\n",
    "\n",
    "# Ajuste a quantidade de níveis para chegar na raiz do projeto\n",
    "project_dir = notebook_dir.parents[0]  # Ajuste conforme sua estrutura\n",
    "\n",
    "src_dir = project_dir / \"src\"\n",
    "sys.path.append(str(src_dir))"
   ]
  },
  {
   "cell_type": "code",
   "execution_count": null,
   "id": "2165ae60",
   "metadata": {},
   "outputs": [],
   "source": [
    "import time\n",
    "start_time = time.time()"
   ]
  },
  {
   "cell_type": "markdown",
   "id": "30025ff7",
   "metadata": {},
   "source": [
    "## 2. Load Raw Data"
   ]
  },
  {
   "cell_type": "code",
   "execution_count": null,
   "id": "36648b66",
   "metadata": {},
   "outputs": [
    {
     "name": "stderr",
     "output_type": "stream",
     "text": [
      "\u001b[32m2025-09-05 16:52:43.290\u001b[0m | \u001b[1mINFO    \u001b[0m | \u001b[36msrc.config\u001b[0m:\u001b[36m<module>\u001b[0m:\u001b[36m28\u001b[0m - \u001b[1mPROJ_ROOT path is: C:\\Repositories\\quickdraw-gan-generator\u001b[0m\n"
     ]
    },
    {
     "name": "stdout",
     "output_type": "stream",
     "text": [
      "Using device: cpu\n"
     ]
    }
   ],
   "source": [
    "from src.dataset import main as load_dataset"
   ]
  },
  {
   "cell_type": "code",
   "execution_count": null,
   "id": "82758066",
   "metadata": {},
   "outputs": [
    {
     "name": "stdout",
     "output_type": "stream",
     "text": [
      "\u001b[32m2025-09-05 16:52:43.462\u001b[0m | \u001b[1mINFO    \u001b[0m | \u001b[36msrc.dataset\u001b[0m:\u001b[36mmain\u001b[0m:\u001b[36m22\u001b[0m - \u001b[1mStarting dataset processing with max_drawings=10000...\u001b[0m\n",
      "loading coffee cup drawings\n",
      "load complete\n",
      "Number of drawings uploaded: 10000\n"
     ]
    },
    {
     "name": "stderr",
     "output_type": "stream",
     "text": [
      "Saving drawings: 436it [00:01, 237.15it/s]"
     ]
    }
   ],
   "source": [
    "load_dataset(10000)"
   ]
  },
  {
   "cell_type": "markdown",
   "id": "48bceb51",
   "metadata": {},
   "source": [
    "## 2. Features"
   ]
  },
  {
   "cell_type": "code",
   "execution_count": null,
   "id": "bb550ee8",
   "metadata": {},
   "outputs": [],
   "source": [
    "from src.features import main as process_dataset\n",
    "from src.plots import main as generate_plots"
   ]
  },
  {
   "cell_type": "code",
   "execution_count": null,
   "id": "e4e7a764",
   "metadata": {},
   "outputs": [],
   "source": [
    "process_dataset()"
   ]
  },
  {
   "cell_type": "code",
   "execution_count": null,
   "id": "6e5e43e0",
   "metadata": {},
   "outputs": [],
   "source": [
    "generate_plots()"
   ]
  },
  {
   "cell_type": "markdown",
   "id": "e3d3cd80",
   "metadata": {},
   "source": [
    "## 3. Model Training"
   ]
  },
  {
   "cell_type": "code",
   "execution_count": null,
   "id": "c2f659ff",
   "metadata": {},
   "outputs": [],
   "source": [
    "from src.modeling.train import main as train_models"
   ]
  },
  {
   "cell_type": "code",
   "execution_count": null,
   "id": "594c65db",
   "metadata": {},
   "outputs": [],
   "source": [
    "train_models()"
   ]
  },
  {
   "cell_type": "markdown",
   "id": "88de56e1",
   "metadata": {},
   "source": [
    "## 4. Generate"
   ]
  },
  {
   "cell_type": "code",
   "execution_count": null,
   "id": "084314dd",
   "metadata": {},
   "outputs": [],
   "source": [
    "from src.modeling.generate import main as generate_image"
   ]
  },
  {
   "cell_type": "code",
   "execution_count": null,
   "id": "03d69c07",
   "metadata": {},
   "outputs": [],
   "source": [
    "generate_image()"
   ]
  },
  {
   "cell_type": "code",
   "execution_count": null,
   "id": "e945aa7e",
   "metadata": {},
   "outputs": [],
   "source": [
    "end_time = time.time()"
   ]
  },
  {
   "cell_type": "markdown",
   "id": "47c29aca",
   "metadata": {},
   "source": [
    "## 5. Run Experiment"
   ]
  },
  {
   "cell_type": "code",
   "execution_count": null,
   "id": "27b254b3",
   "metadata": {},
   "outputs": [],
   "source": [
    "from src.config import mlflow, MODELS_DIR, FIGURES_DIR, CONFIG_FILE"
   ]
  },
  {
   "cell_type": "code",
   "execution_count": null,
   "id": "989736f0",
   "metadata": {},
   "outputs": [],
   "source": [
    "mlflow.set_experiment(\"coffee cup\")"
   ]
  },
  {
   "cell_type": "code",
   "execution_count": null,
   "id": "62dbc2d6",
   "metadata": {},
   "outputs": [],
   "source": [
    "with mlflow.start_run() as run:\n",
    "    # arquivos individuais -> log_artifact\n",
    "    mlflow.log_artifact(str(MODELS_DIR / \"gan_artifact.pth\"), artifact_path=\"models\")\n",
    "    mlflow.log_artifact(str(FIGURES_DIR / \"generated_image.png\"), artifact_path=\"figures\")\n",
    "    mlflow.log_artifact(str(CONFIG_FILE), artifact_path=\"config\")\n",
    "    mlflow.log_param(\"elapsed_time\", end_time - start_time)"
   ]
  }
 ],
 "metadata": {
  "kernelspec": {
   "display_name": "src-py3.10",
   "language": "python",
   "name": "python3"
  },
  "language_info": {
   "codemirror_mode": {
    "name": "ipython",
    "version": 3
   },
   "file_extension": ".py",
   "mimetype": "text/x-python",
   "name": "python",
   "nbconvert_exporter": "python",
   "pygments_lexer": "ipython3",
   "version": "3.10.5"
  }
 },
 "nbformat": 4,
 "nbformat_minor": 5
}
